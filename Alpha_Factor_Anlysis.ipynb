{
  "nbformat": 4,
  "nbformat_minor": 0,
  "metadata": {
    "colab": {
      "provenance": [],
      "authorship_tag": "ABX9TyMGnKZ6BDqsUVgN4n7glqzJ",
      "include_colab_link": true
    },
    "kernelspec": {
      "name": "python3",
      "display_name": "Python 3"
    }
  },
  "cells": [
    {
      "cell_type": "markdown",
      "metadata": {
        "id": "view-in-github",
        "colab_type": "text"
      },
      "source": [
        "<a href=\"https://colab.research.google.com/github/meisamgh/Machine_Learning_Trading/blob/main/Alpha_Factor_Anlysis.ipynb\" target=\"_parent\"><img src=\"https://colab.research.google.com/assets/colab-badge.svg\" alt=\"Open In Colab\"/></a>"
      ]
    },
    {
      "cell_type": "code",
      "metadata": {
        "id": "c1HSEYsKDG2N"
      },
      "source": [
        "!wget http://prdownloads.sourceforge.net/ta-lib/ta-lib-0.4.0-src.tar.gz\n",
        "!tar -xzvf ta-lib-0.4.0-src.tar.gz\n",
        "%cd ta-lib\n",
        "!./configure --prefix=/usr\n",
        "!make\n",
        "!make install\n",
        "!pip install Ta-Lib\n",
        "!pip install alphalens"
      ],
      "execution_count": null,
      "outputs": []
    },
    {
      "cell_type": "code",
      "metadata": {
        "id": "YapcZ15Tfq4I",
        "colab": {
          "base_uri": "https://localhost:8080/",
          "height": 1000
        },
        "outputId": "a3a244ee-90e8-41fa-e2cb-11d95e1e4955"
      },
      "source": [
        "import pandas_datareader as web\n",
        "tickers = ['AAPL', 'A' , \"AA\" , 'AAL' , 'AAMC' , 'AAN' , 'AAOI' , 'AAON' , 'AAP' , 'AAT']\n",
        "data = web.DataReader(tickers , 'yahoo', start='2018/01/01', end='2019/12/31')\n",
        "#data.columns = ['Adj close' , 'Close' , 'High' , 'Low' , 'Open' , 'Volume']"
      ],
      "execution_count": null,
      "outputs": [
        {
          "output_type": "stream",
          "name": "stderr",
          "text": [
            "/usr/local/lib/python3.7/dist-packages/pandas_datareader/base.py:272: SymbolWarning: Failed to read symbol: 'AAPL', replacing with NaN.\n",
            "  warnings.warn(msg.format(sym), SymbolWarning)\n",
            "/usr/local/lib/python3.7/dist-packages/pandas_datareader/base.py:272: SymbolWarning: Failed to read symbol: 'A', replacing with NaN.\n",
            "  warnings.warn(msg.format(sym), SymbolWarning)\n",
            "/usr/local/lib/python3.7/dist-packages/pandas_datareader/base.py:272: SymbolWarning: Failed to read symbol: 'AA', replacing with NaN.\n",
            "  warnings.warn(msg.format(sym), SymbolWarning)\n",
            "/usr/local/lib/python3.7/dist-packages/pandas_datareader/base.py:272: SymbolWarning: Failed to read symbol: 'AAL', replacing with NaN.\n",
            "  warnings.warn(msg.format(sym), SymbolWarning)\n",
            "/usr/local/lib/python3.7/dist-packages/pandas_datareader/base.py:272: SymbolWarning: Failed to read symbol: 'AAMC', replacing with NaN.\n",
            "  warnings.warn(msg.format(sym), SymbolWarning)\n",
            "/usr/local/lib/python3.7/dist-packages/pandas_datareader/base.py:272: SymbolWarning: Failed to read symbol: 'AAN', replacing with NaN.\n",
            "  warnings.warn(msg.format(sym), SymbolWarning)\n",
            "/usr/local/lib/python3.7/dist-packages/pandas_datareader/base.py:272: SymbolWarning: Failed to read symbol: 'AAOI', replacing with NaN.\n",
            "  warnings.warn(msg.format(sym), SymbolWarning)\n",
            "/usr/local/lib/python3.7/dist-packages/pandas_datareader/base.py:272: SymbolWarning: Failed to read symbol: 'AAON', replacing with NaN.\n",
            "  warnings.warn(msg.format(sym), SymbolWarning)\n",
            "/usr/local/lib/python3.7/dist-packages/pandas_datareader/base.py:272: SymbolWarning: Failed to read symbol: 'AAP', replacing with NaN.\n",
            "  warnings.warn(msg.format(sym), SymbolWarning)\n",
            "/usr/local/lib/python3.7/dist-packages/pandas_datareader/base.py:272: SymbolWarning: Failed to read symbol: 'AAT', replacing with NaN.\n",
            "  warnings.warn(msg.format(sym), SymbolWarning)\n"
          ]
        },
        {
          "output_type": "error",
          "ename": "RemoteDataError",
          "evalue": "ignored",
          "traceback": [
            "\u001b[0;31m---------------------------------------------------------------------------\u001b[0m",
            "\u001b[0;31mRemoteDataError\u001b[0m                           Traceback (most recent call last)",
            "\u001b[0;32m<ipython-input-2-4ebce7938d36>\u001b[0m in \u001b[0;36m<module>\u001b[0;34m()\u001b[0m\n\u001b[1;32m      1\u001b[0m \u001b[0;32mimport\u001b[0m \u001b[0mpandas_datareader\u001b[0m \u001b[0;32mas\u001b[0m \u001b[0mweb\u001b[0m\u001b[0;34m\u001b[0m\u001b[0;34m\u001b[0m\u001b[0m\n\u001b[1;32m      2\u001b[0m \u001b[0mtickers\u001b[0m \u001b[0;34m=\u001b[0m \u001b[0;34m[\u001b[0m\u001b[0;34m'AAPL'\u001b[0m\u001b[0;34m,\u001b[0m \u001b[0;34m'A'\u001b[0m \u001b[0;34m,\u001b[0m \u001b[0;34m\"AA\"\u001b[0m \u001b[0;34m,\u001b[0m \u001b[0;34m'AAL'\u001b[0m \u001b[0;34m,\u001b[0m \u001b[0;34m'AAMC'\u001b[0m \u001b[0;34m,\u001b[0m \u001b[0;34m'AAN'\u001b[0m \u001b[0;34m,\u001b[0m \u001b[0;34m'AAOI'\u001b[0m \u001b[0;34m,\u001b[0m \u001b[0;34m'AAON'\u001b[0m \u001b[0;34m,\u001b[0m \u001b[0;34m'AAP'\u001b[0m \u001b[0;34m,\u001b[0m \u001b[0;34m'AAT'\u001b[0m\u001b[0;34m]\u001b[0m\u001b[0;34m\u001b[0m\u001b[0;34m\u001b[0m\u001b[0m\n\u001b[0;32m----> 3\u001b[0;31m \u001b[0mdata\u001b[0m \u001b[0;34m=\u001b[0m \u001b[0mweb\u001b[0m\u001b[0;34m.\u001b[0m\u001b[0mDataReader\u001b[0m\u001b[0;34m(\u001b[0m\u001b[0mtickers\u001b[0m \u001b[0;34m,\u001b[0m \u001b[0;34m'yahoo'\u001b[0m\u001b[0;34m,\u001b[0m \u001b[0mstart\u001b[0m\u001b[0;34m=\u001b[0m\u001b[0;34m'2018/01/01'\u001b[0m\u001b[0;34m,\u001b[0m \u001b[0mend\u001b[0m\u001b[0;34m=\u001b[0m\u001b[0;34m'2019/12/31'\u001b[0m\u001b[0;34m)\u001b[0m\u001b[0;34m\u001b[0m\u001b[0;34m\u001b[0m\u001b[0m\n\u001b[0m\u001b[1;32m      4\u001b[0m \u001b[0;31m#data.columns = ['Adj close' , 'Close' , 'High' , 'Low' , 'Open' , 'Volume']\u001b[0m\u001b[0;34m\u001b[0m\u001b[0;34m\u001b[0m\u001b[0;34m\u001b[0m\u001b[0m\n",
            "\u001b[0;32m/usr/local/lib/python3.7/dist-packages/pandas/util/_decorators.py\u001b[0m in \u001b[0;36mwrapper\u001b[0;34m(*args, **kwargs)\u001b[0m\n\u001b[1;32m    197\u001b[0m                 \u001b[0;32melse\u001b[0m\u001b[0;34m:\u001b[0m\u001b[0;34m\u001b[0m\u001b[0;34m\u001b[0m\u001b[0m\n\u001b[1;32m    198\u001b[0m                     \u001b[0mkwargs\u001b[0m\u001b[0;34m[\u001b[0m\u001b[0mnew_arg_name\u001b[0m\u001b[0;34m]\u001b[0m \u001b[0;34m=\u001b[0m \u001b[0mnew_arg_value\u001b[0m\u001b[0;34m\u001b[0m\u001b[0;34m\u001b[0m\u001b[0m\n\u001b[0;32m--> 199\u001b[0;31m             \u001b[0;32mreturn\u001b[0m \u001b[0mfunc\u001b[0m\u001b[0;34m(\u001b[0m\u001b[0;34m*\u001b[0m\u001b[0margs\u001b[0m\u001b[0;34m,\u001b[0m \u001b[0;34m**\u001b[0m\u001b[0mkwargs\u001b[0m\u001b[0;34m)\u001b[0m\u001b[0;34m\u001b[0m\u001b[0;34m\u001b[0m\u001b[0m\n\u001b[0m\u001b[1;32m    200\u001b[0m \u001b[0;34m\u001b[0m\u001b[0m\n\u001b[1;32m    201\u001b[0m         \u001b[0;32mreturn\u001b[0m \u001b[0mcast\u001b[0m\u001b[0;34m(\u001b[0m\u001b[0mF\u001b[0m\u001b[0;34m,\u001b[0m \u001b[0mwrapper\u001b[0m\u001b[0;34m)\u001b[0m\u001b[0;34m\u001b[0m\u001b[0;34m\u001b[0m\u001b[0m\n",
            "\u001b[0;32m/usr/local/lib/python3.7/dist-packages/pandas_datareader/data.py\u001b[0m in \u001b[0;36mDataReader\u001b[0;34m(name, data_source, start, end, retry_count, pause, session, api_key)\u001b[0m\n\u001b[1;32m    382\u001b[0m             \u001b[0mretry_count\u001b[0m\u001b[0;34m=\u001b[0m\u001b[0mretry_count\u001b[0m\u001b[0;34m,\u001b[0m\u001b[0;34m\u001b[0m\u001b[0;34m\u001b[0m\u001b[0m\n\u001b[1;32m    383\u001b[0m             \u001b[0mpause\u001b[0m\u001b[0;34m=\u001b[0m\u001b[0mpause\u001b[0m\u001b[0;34m,\u001b[0m\u001b[0;34m\u001b[0m\u001b[0;34m\u001b[0m\u001b[0m\n\u001b[0;32m--> 384\u001b[0;31m             \u001b[0msession\u001b[0m\u001b[0;34m=\u001b[0m\u001b[0msession\u001b[0m\u001b[0;34m,\u001b[0m\u001b[0;34m\u001b[0m\u001b[0;34m\u001b[0m\u001b[0m\n\u001b[0m\u001b[1;32m    385\u001b[0m         ).read()\n\u001b[1;32m    386\u001b[0m \u001b[0;34m\u001b[0m\u001b[0m\n",
            "\u001b[0;32m/usr/local/lib/python3.7/dist-packages/pandas_datareader/base.py\u001b[0m in \u001b[0;36mread\u001b[0;34m(self)\u001b[0m\n\u001b[1;32m    256\u001b[0m             \u001b[0mdf\u001b[0m \u001b[0;34m=\u001b[0m \u001b[0mself\u001b[0m\u001b[0;34m.\u001b[0m\u001b[0m_dl_mult_symbols\u001b[0m\u001b[0;34m(\u001b[0m\u001b[0mself\u001b[0m\u001b[0;34m.\u001b[0m\u001b[0msymbols\u001b[0m\u001b[0;34m.\u001b[0m\u001b[0mindex\u001b[0m\u001b[0;34m)\u001b[0m\u001b[0;34m\u001b[0m\u001b[0;34m\u001b[0m\u001b[0m\n\u001b[1;32m    257\u001b[0m         \u001b[0;32melse\u001b[0m\u001b[0;34m:\u001b[0m\u001b[0;34m\u001b[0m\u001b[0;34m\u001b[0m\u001b[0m\n\u001b[0;32m--> 258\u001b[0;31m             \u001b[0mdf\u001b[0m \u001b[0;34m=\u001b[0m \u001b[0mself\u001b[0m\u001b[0;34m.\u001b[0m\u001b[0m_dl_mult_symbols\u001b[0m\u001b[0;34m(\u001b[0m\u001b[0mself\u001b[0m\u001b[0;34m.\u001b[0m\u001b[0msymbols\u001b[0m\u001b[0;34m)\u001b[0m\u001b[0;34m\u001b[0m\u001b[0;34m\u001b[0m\u001b[0m\n\u001b[0m\u001b[1;32m    259\u001b[0m         \u001b[0;32mreturn\u001b[0m \u001b[0mdf\u001b[0m\u001b[0;34m\u001b[0m\u001b[0;34m\u001b[0m\u001b[0m\n\u001b[1;32m    260\u001b[0m \u001b[0;34m\u001b[0m\u001b[0m\n",
            "\u001b[0;32m/usr/local/lib/python3.7/dist-packages/pandas_datareader/base.py\u001b[0m in \u001b[0;36m_dl_mult_symbols\u001b[0;34m(self, symbols)\u001b[0m\n\u001b[1;32m    275\u001b[0m         \u001b[0;32mif\u001b[0m \u001b[0mlen\u001b[0m\u001b[0;34m(\u001b[0m\u001b[0mpassed\u001b[0m\u001b[0;34m)\u001b[0m \u001b[0;34m==\u001b[0m \u001b[0;36m0\u001b[0m\u001b[0;34m:\u001b[0m\u001b[0;34m\u001b[0m\u001b[0;34m\u001b[0m\u001b[0m\n\u001b[1;32m    276\u001b[0m             \u001b[0mmsg\u001b[0m \u001b[0;34m=\u001b[0m \u001b[0;34m\"No data fetched using {0!r}\"\u001b[0m\u001b[0;34m\u001b[0m\u001b[0;34m\u001b[0m\u001b[0m\n\u001b[0;32m--> 277\u001b[0;31m             \u001b[0;32mraise\u001b[0m \u001b[0mRemoteDataError\u001b[0m\u001b[0;34m(\u001b[0m\u001b[0mmsg\u001b[0m\u001b[0;34m.\u001b[0m\u001b[0mformat\u001b[0m\u001b[0;34m(\u001b[0m\u001b[0mself\u001b[0m\u001b[0;34m.\u001b[0m\u001b[0m__class__\u001b[0m\u001b[0;34m.\u001b[0m\u001b[0m__name__\u001b[0m\u001b[0;34m)\u001b[0m\u001b[0;34m)\u001b[0m\u001b[0;34m\u001b[0m\u001b[0;34m\u001b[0m\u001b[0m\n\u001b[0m\u001b[1;32m    278\u001b[0m         \u001b[0;32mtry\u001b[0m\u001b[0;34m:\u001b[0m\u001b[0;34m\u001b[0m\u001b[0;34m\u001b[0m\u001b[0m\n\u001b[1;32m    279\u001b[0m             \u001b[0;32mif\u001b[0m \u001b[0mlen\u001b[0m\u001b[0;34m(\u001b[0m\u001b[0mstocks\u001b[0m\u001b[0;34m)\u001b[0m \u001b[0;34m>\u001b[0m \u001b[0;36m0\u001b[0m \u001b[0;32mand\u001b[0m \u001b[0mlen\u001b[0m\u001b[0;34m(\u001b[0m\u001b[0mfailed\u001b[0m\u001b[0;34m)\u001b[0m \u001b[0;34m>\u001b[0m \u001b[0;36m0\u001b[0m \u001b[0;32mand\u001b[0m \u001b[0mlen\u001b[0m\u001b[0;34m(\u001b[0m\u001b[0mpassed\u001b[0m\u001b[0;34m)\u001b[0m \u001b[0;34m>\u001b[0m \u001b[0;36m0\u001b[0m\u001b[0;34m:\u001b[0m\u001b[0;34m\u001b[0m\u001b[0;34m\u001b[0m\u001b[0m\n",
            "\u001b[0;31mRemoteDataError\u001b[0m: No data fetched using 'YahooDailyReader'"
          ]
        }
      ]
    },
    {
      "cell_type": "code",
      "metadata": {
        "id": "RgjTlS6Mfrnk"
      },
      "source": [
        "data = data.stack('Symbols')"
      ],
      "execution_count": null,
      "outputs": []
    },
    {
      "cell_type": "code",
      "metadata": {
        "id": "l8bO6-wif155"
      },
      "source": [
        "data.index.names = ['date','ticker']\n",
        "data.columns = ['adj_close' , 'close' , 'high' , 'low' , 'open' , 'volume']\n",
        "ohlcv = ['open', 'high', 'low', 'close', 'volume']\n",
        "open = data.open\n",
        "high = data.open\n",
        "low = data.low.unstack('ticker')\n",
        "close = data.close.unstack('ticker')\n",
        "volume = data.volume.unstack('ticker')\n",
        "#vwap = o.add(h).add(l).add(c).div(4)\n",
        "#adv20 = v.rolling(20).mean()\n",
        "data['returns'] = data.close.pct_change()\n",
        "data['ret_fwd'] = data.close.shift(-1)\n",
        "data.dropna( 0 , inplace = True)\n",
        "r = data.returns.unstack('ticker')\n"
      ],
      "execution_count": null,
      "outputs": []
    },
    {
      "cell_type": "code",
      "metadata": {
        "id": "rxwDFaDzjid7"
      },
      "source": [
        "import pandas as pd \n",
        "import numpy as np\n",
        "from talib import RSI , BBANDS , ATR\n",
        "import talib"
      ],
      "execution_count": null,
      "outputs": []
    },
    {
      "cell_type": "code",
      "metadata": {
        "id": "10DE5p2DJskT"
      },
      "source": [
        "data.head()"
      ],
      "execution_count": null,
      "outputs": []
    },
    {
      "cell_type": "code",
      "metadata": {
        "id": "29GtEH1xJO__"
      },
      "source": [
        "def MACDEXT(data ,  fastperiod=12, fastmatype=0, slowperiod=26, slowmatype=0, signalperiod=9, signalmatype=0):\n",
        "    \n",
        "    return  talib. MACDEXT(data.close, fastperiod , fastmatype, slowperiod , slowmatype, signalperiod, signalmatype)"
      ],
      "execution_count": null,
      "outputs": []
    },
    {
      "cell_type": "code",
      "metadata": {
        "id": "_5Zn3PAiJjSs"
      },
      "source": [
        "factor = pd.DataFrame()\n",
        "factor['rsi'] = data.groupby(level='ticker').apply(AROON)"
      ],
      "execution_count": null,
      "outputs": []
    },
    {
      "cell_type": "code",
      "metadata": {
        "id": "dQZBYgFjgkhm"
      },
      "source": [
        "factor = pd.DataFrame()\n",
        "prices = data \n",
        "#factor['dollar_vol'] = prices.loc[:, 'close'].mul(prices.loc[:, 'volume'], axis=0)\n",
        "#factor['dollar_vol'] = (prices.groupby('ticker', group_keys=False, as_index=False)).dollar_vol.rolling(window=21).mean().reset_index(level=0, drop=True)\n",
        "#factor['dollar_vol_rank'] = (prices.groupby('date') .dollar_vol .rank(ascending=False))\n",
        "\n",
        "factor['rsi'] = prices.groupby(level='ticker').close.apply(RSI)\n",
        "\n",
        "def compute_bb(close):\n",
        "  high, mid, low = BBANDS(close) \n",
        "  return pd.DataFrame({'bb_high': high, 'bb_low': low}, index=close.index)\n",
        "\n",
        "prices = (prices.join(prices.groupby(level='ticker') .close .apply(compute_bb)))\n",
        "\n",
        "factor['bb_high'] = prices.bb_high.sub(prices.close).div(prices.bb_high). apply(np.log1p) \n",
        "factor['bb_low'] = prices.close.sub(prices.bb_low).div(prices.close). apply(np.log1p)\n",
        "\n",
        "def compute_atr(stock_data):\n",
        "  df = ATR(stock_data.high, stock_data.low, stock_data.close, timeperiod=14)\n",
        "  return df.sub(df.mean()).div(df.std()) \n",
        "\n",
        "factor['atr'] = (prices.groupby('ticker', group_keys=False) .apply(compute_atr))\n",
        "\n",
        "from alphalens.tears import create_full_tear_sheet\n",
        "create_full_tear_sheet(alphalens_data)\n"
      ],
      "execution_count": null,
      "outputs": []
    },
    {
      "cell_type": "code",
      "metadata": {
        "id": "mvHihZ0_lAFB"
      },
      "source": [
        "pp = prices.close.unstack()"
      ],
      "execution_count": null,
      "outputs": []
    },
    {
      "cell_type": "code",
      "metadata": {
        "id": "7sKU2hv6laJc"
      },
      "source": [
        "rsi = factor[['rsi']]\n",
        "atr = factor[['atr']]\n",
        "\n",
        "bb_low = factor[['bb_low']]\n",
        "bb_high = factor[['bb_high']]\n"
      ],
      "execution_count": null,
      "outputs": []
    },
    {
      "cell_type": "code",
      "metadata": {
        "id": "4pNd6swWgG16"
      },
      "source": [
        "from alphalens.utils import get_clean_factor_and_forward_returns , get_clean_factor , compute_forward_returns\n",
        "\n",
        "fw_return = compute_forward_returns(factor, pp, periods=(1, 5, 10), filter_zscore=None)\n",
        "al_data = get_clean_factor(factor = rsi , forward_returns= fw_return  , quantiles=5  )"
      ],
      "execution_count": null,
      "outputs": []
    },
    {
      "cell_type": "code",
      "metadata": {
        "id": "VEr-G4CbgPgA"
      },
      "source": [
        "from alphalens.utils import get_clean_factor_and_forward_returns , get_clean_factor\n",
        "from alphalens.performance import *\n",
        "from alphalens.plotting import *\n",
        "from alphalens.tears import *\n",
        "\n",
        "import seaborn as sns\n",
        "import matplotlib.pyplot as plt\n",
        "\n",
        "HOLDING_PERIODS = (5, 10, 21, 42) \n",
        "QUANTILES = 5 \n",
        "alphalens_data = get_clean_factor_and_forward_returns(factor=rsi, prices =  pp , periods=HOLDING_PERIODS, quantiles=QUANTILES)"
      ],
      "execution_count": null,
      "outputs": []
    },
    {
      "cell_type": "code",
      "metadata": {
        "id": "r84UxqGr13_x"
      },
      "source": [
        "def generate_factor_stats(results , prices ,factors):\n",
        "    factor_stats = {}\n",
        "    for name, factor in factors.items():\n",
        "        facor_data = alphalens.utils.get_clean_factor_and_forward_returns(\n",
        "            factor = results[name], \n",
        "            prices = prices, \n",
        "            periods = (1,5,21),\n",
        "            max_loss= 0.95)\n",
        "        ic = alphalens.performance.factor_information_coefficient()\n",
        "        risk_adjusted_ic = (ic.mean()/ic.std()).round(5)['21D']\n",
        "        \n",
        "        returns = alphalens.performance.factor_returns(facor_data)\n",
        "        factor_stats[name] = [risk_adjusted_ic , returns]\n",
        "        \n",
        "    return factor_stats"
      ],
      "execution_count": null,
      "outputs": []
    },
    {
      "cell_type": "code",
      "metadata": {
        "id": "EpQPx7tJhX_R"
      },
      "source": [
        "!pip install zipline"
      ],
      "execution_count": null,
      "outputs": []
    },
    {
      "cell_type": "code",
      "metadata": {
        "id": "ZEvl0Ejsh_75"
      },
      "source": [
        "from zipline.pipeline import Pipeline, CustomFactor\n",
        "from talib import ADX \n",
        "\n",
        "\n",
        "import pandas_datareader as web\n",
        "tickers = ['AAPL', 'A' , \"AA\" , 'AAL' , 'AAMC' , 'AAN' , 'AAOI' , 'AAON' , 'AAP' , 'AAT']\n",
        "data = web.DataReader(tickers , 'yahoo', start='2018/01/01', end='2019/12/31')\n"
      ],
      "execution_count": null,
      "outputs": []
    },
    {
      "cell_type": "code",
      "metadata": {
        "id": "ofzG8_raf6Be"
      },
      "source": [
        "class ADX(CustomFactor):\n",
        "    inputs = [data.high , data.low , data.close]\n",
        "    window_length = 1\n",
        "    \n",
        "    def compute (self, today , assets , out, high , low ,close):\n",
        "        out[:] = talib.ADX(high[-1], low[-1], \n",
        "                           close[-1])\n",
        "\n",
        "def compute_factors():\n",
        "    adx = ADX()\n",
        "    return Pipeline(columns = {'adx' : adx})"
      ],
      "execution_count": null,
      "outputs": []
    }
  ]
}