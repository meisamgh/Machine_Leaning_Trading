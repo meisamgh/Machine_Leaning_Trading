{
  "nbformat": 4,
  "nbformat_minor": 0,
  "metadata": {
    "colab": {
      "provenance": [],
      "authorship_tag": "ABX9TyNOeOF8giJbg736krKw4HNx",
      "include_colab_link": true
    },
    "kernelspec": {
      "display_name": "Python 3",
      "name": "python3"
    }
  },
  "cells": [
    {
      "cell_type": "markdown",
      "metadata": {
        "id": "view-in-github",
        "colab_type": "text"
      },
      "source": [
        "<a href=\"https://colab.research.google.com/github/meisamgh/Machine_Learning_Trading/blob/main/Copy_of_TA_lib.ipynb\" target=\"_parent\"><img src=\"https://colab.research.google.com/assets/colab-badge.svg\" alt=\"Open In Colab\"/></a>"
      ]
    },
    {
      "cell_type": "code",
      "metadata": {
        "id": "EmJFcPDvKI8d"
      },
      "source": [
        "!wget http://prdownloads.sourceforge.net/ta-lib/ta-lib-0.4.0-src.tar.gz\n",
        "!tar -xzvf ta-lib-0.4.0-src.tar.gz\n",
        "%cd ta-lib\n",
        "!./configure --prefix=/usr\n",
        "!make\n",
        "!make install\n",
        "!pip install Ta-Lib\n",
        "import talib\n"
      ],
      "execution_count": null,
      "outputs": []
    },
    {
      "cell_type": "code",
      "metadata": {
        "colab": {
          "base_uri": "https://localhost:8080/"
        },
        "id": "xmW8vMYUSCKd",
        "outputId": "3f9bbdd0-a131-4ea7-9517-64d41102cb2a"
      },
      "source": [
        "!sudo apt-get install libatlas-base-dev python-dev gfortran pkg-config libfreetype6-dev hdf5-tools\n"
      ],
      "execution_count": null,
      "outputs": [
        {
          "output_type": "stream",
          "text": [
            "Reading package lists... Done\n",
            "Building dependency tree       \n",
            "Reading state information... Done\n",
            "pkg-config is already the newest version (0.29.1-0ubuntu2).\n",
            "python-dev is already the newest version (2.7.15~rc1-1).\n",
            "libatlas-base-dev is already the newest version (3.10.3-5).\n",
            "gfortran is already the newest version (4:7.4.0-1ubuntu2.3).\n",
            "libfreetype6-dev is already the newest version (2.8.1-2ubuntu2.1).\n",
            "The following package was automatically installed and is no longer required:\n",
            "  libnvidia-common-460\n",
            "Use 'sudo apt autoremove' to remove it.\n",
            "The following NEW packages will be installed:\n",
            "  hdf5-tools\n",
            "0 upgraded, 1 newly installed, 0 to remove and 34 not upgraded.\n",
            "Need to get 390 kB of archives.\n",
            "After this operation, 2,280 kB of additional disk space will be used.\n",
            "Get:1 http://archive.ubuntu.com/ubuntu bionic/universe amd64 hdf5-tools amd64 1.10.0-patch1+docs-4 [390 kB]\n",
            "Fetched 390 kB in 1s (625 kB/s)\n",
            "debconf: unable to initialize frontend: Dialog\n",
            "debconf: (No usable dialog-like program is installed, so the dialog based frontend cannot be used. at /usr/share/perl5/Debconf/FrontEnd/Dialog.pm line 76, <> line 1.)\n",
            "debconf: falling back to frontend: Readline\n",
            "debconf: unable to initialize frontend: Readline\n",
            "debconf: (This frontend requires a controlling tty.)\n",
            "debconf: falling back to frontend: Teletype\n",
            "dpkg-preconfigure: unable to re-open stdin: \n",
            "Selecting previously unselected package hdf5-tools.\n",
            "(Reading database ... 160690 files and directories currently installed.)\n",
            "Preparing to unpack .../hdf5-tools_1.10.0-patch1+docs-4_amd64.deb ...\n",
            "Unpacking hdf5-tools (1.10.0-patch1+docs-4) ...\n",
            "Setting up hdf5-tools (1.10.0-patch1+docs-4) ...\n",
            "Processing triggers for man-db (2.8.3-2ubuntu0.1) ...\n"
          ],
          "name": "stdout"
        }
      ]
    },
    {
      "cell_type": "code",
      "metadata": {
        "id": "YgZFQSdotZFq",
        "colab": {
          "base_uri": "https://localhost:8080/"
        },
        "outputId": "98ae54cd-7ce2-484b-f940-1e6a43ceee90"
      },
      "source": [
        "!pip install xgboost\n",
        "!pip install lightgbm\n",
        "!pip install pandas_datareader\n",
        "!pip install yfinance"
      ],
      "execution_count": null,
      "outputs": [
        {
          "output_type": "stream",
          "text": [
            "Requirement already satisfied: xgboost in /usr/local/lib/python3.7/dist-packages (0.90)\n",
            "Requirement already satisfied: numpy in /usr/local/lib/python3.7/dist-packages (from xgboost) (1.19.5)\n",
            "Requirement already satisfied: scipy in /usr/local/lib/python3.7/dist-packages (from xgboost) (1.4.1)\n",
            "Requirement already satisfied: lightgbm in /usr/local/lib/python3.7/dist-packages (2.2.3)\n",
            "Requirement already satisfied: scipy in /usr/local/lib/python3.7/dist-packages (from lightgbm) (1.4.1)\n",
            "Requirement already satisfied: numpy in /usr/local/lib/python3.7/dist-packages (from lightgbm) (1.19.5)\n",
            "Requirement already satisfied: scikit-learn in /usr/local/lib/python3.7/dist-packages (from lightgbm) (0.22.2.post1)\n",
            "Requirement already satisfied: joblib>=0.11 in /usr/local/lib/python3.7/dist-packages (from scikit-learn->lightgbm) (1.0.1)\n",
            "Requirement already satisfied: pandas_datareader in /usr/local/lib/python3.7/dist-packages (0.9.0)\n",
            "Requirement already satisfied: lxml in /usr/local/lib/python3.7/dist-packages (from pandas_datareader) (4.2.6)\n",
            "Requirement already satisfied: pandas>=0.23 in /usr/local/lib/python3.7/dist-packages (from pandas_datareader) (1.1.5)\n",
            "Requirement already satisfied: requests>=2.19.0 in /usr/local/lib/python3.7/dist-packages (from pandas_datareader) (2.23.0)\n",
            "Requirement already satisfied: python-dateutil>=2.7.3 in /usr/local/lib/python3.7/dist-packages (from pandas>=0.23->pandas_datareader) (2.8.1)\n",
            "Requirement already satisfied: numpy>=1.15.4 in /usr/local/lib/python3.7/dist-packages (from pandas>=0.23->pandas_datareader) (1.19.5)\n",
            "Requirement already satisfied: pytz>=2017.2 in /usr/local/lib/python3.7/dist-packages (from pandas>=0.23->pandas_datareader) (2018.9)\n",
            "Requirement already satisfied: chardet<4,>=3.0.2 in /usr/local/lib/python3.7/dist-packages (from requests>=2.19.0->pandas_datareader) (3.0.4)\n",
            "Requirement already satisfied: urllib3!=1.25.0,!=1.25.1,<1.26,>=1.21.1 in /usr/local/lib/python3.7/dist-packages (from requests>=2.19.0->pandas_datareader) (1.24.3)\n",
            "Requirement already satisfied: certifi>=2017.4.17 in /usr/local/lib/python3.7/dist-packages (from requests>=2.19.0->pandas_datareader) (2020.12.5)\n",
            "Requirement already satisfied: idna<3,>=2.5 in /usr/local/lib/python3.7/dist-packages (from requests>=2.19.0->pandas_datareader) (2.10)\n",
            "Requirement already satisfied: six>=1.5 in /usr/local/lib/python3.7/dist-packages (from python-dateutil>=2.7.3->pandas>=0.23->pandas_datareader) (1.15.0)\n",
            "Collecting yfinance\n",
            "  Downloading https://files.pythonhosted.org/packages/a7/ee/315752b9ef281ba83c62aa7ec2e2074f85223da6e7e74efb4d3e11c0f510/yfinance-0.1.59.tar.gz\n",
            "Requirement already satisfied: pandas>=0.24 in /usr/local/lib/python3.7/dist-packages (from yfinance) (1.1.5)\n",
            "Requirement already satisfied: numpy>=1.15 in /usr/local/lib/python3.7/dist-packages (from yfinance) (1.19.5)\n",
            "Requirement already satisfied: requests>=2.20 in /usr/local/lib/python3.7/dist-packages (from yfinance) (2.23.0)\n",
            "Requirement already satisfied: multitasking>=0.0.7 in /usr/local/lib/python3.7/dist-packages (from yfinance) (0.0.9)\n",
            "Collecting lxml>=4.5.1\n",
            "\u001b[?25l  Downloading https://files.pythonhosted.org/packages/cf/4d/6537313bf58fe22b508f08cf3eb86b29b6f9edf68e00454224539421073b/lxml-4.6.3-cp37-cp37m-manylinux1_x86_64.whl (5.5MB)\n",
            "\u001b[K     |████████████████████████████████| 5.5MB 6.6MB/s \n",
            "\u001b[?25hRequirement already satisfied: python-dateutil>=2.7.3 in /usr/local/lib/python3.7/dist-packages (from pandas>=0.24->yfinance) (2.8.1)\n",
            "Requirement already satisfied: pytz>=2017.2 in /usr/local/lib/python3.7/dist-packages (from pandas>=0.24->yfinance) (2018.9)\n",
            "Requirement already satisfied: idna<3,>=2.5 in /usr/local/lib/python3.7/dist-packages (from requests>=2.20->yfinance) (2.10)\n",
            "Requirement already satisfied: chardet<4,>=3.0.2 in /usr/local/lib/python3.7/dist-packages (from requests>=2.20->yfinance) (3.0.4)\n",
            "Requirement already satisfied: certifi>=2017.4.17 in /usr/local/lib/python3.7/dist-packages (from requests>=2.20->yfinance) (2020.12.5)\n",
            "Requirement already satisfied: urllib3!=1.25.0,!=1.25.1,<1.26,>=1.21.1 in /usr/local/lib/python3.7/dist-packages (from requests>=2.20->yfinance) (1.24.3)\n",
            "Requirement already satisfied: six>=1.5 in /usr/local/lib/python3.7/dist-packages (from python-dateutil>=2.7.3->pandas>=0.24->yfinance) (1.15.0)\n",
            "Building wheels for collected packages: yfinance\n",
            "  Building wheel for yfinance (setup.py) ... \u001b[?25l\u001b[?25hdone\n",
            "  Created wheel for yfinance: filename=yfinance-0.1.59-py2.py3-none-any.whl size=23442 sha256=e17106a45442ae1d6ad76480eda50dd186382f5d6de304511de3ed05187c0968\n",
            "  Stored in directory: /root/.cache/pip/wheels/f8/2a/0f/4b5a86e1d52e451757eb6bc17fd899629f0925c777741b6d04\n",
            "Successfully built yfinance\n",
            "Installing collected packages: lxml, yfinance\n",
            "  Found existing installation: lxml 4.2.6\n",
            "    Uninstalling lxml-4.2.6:\n",
            "      Successfully uninstalled lxml-4.2.6\n",
            "Successfully installed lxml-4.6.3 yfinance-0.1.59\n"
          ],
          "name": "stdout"
        }
      ]
    },
    {
      "cell_type": "code",
      "metadata": {
        "id": "HZ9diHBt6Uj0"
      },
      "source": [
        "import warnings\n",
        "warnings.filterwarnings('ignore')\n",
        "import matplotlib.pyplot as plt\n",
        "import seaborn as sns\n",
        "import pandas as pd\n",
        "import numpy as np \n",
        "pd.core.common.is_list_like = pd.api.types.is_list_like\n",
        "import pandas_datareader as web\n",
        "import yfinance as yf\n"
      ],
      "execution_count": null,
      "outputs": []
    },
    {
      "cell_type": "code",
      "metadata": {
        "colab": {
          "base_uri": "https://localhost:8080/"
        },
        "id": "Ir6_cGpT7JNs",
        "outputId": "4663dfdd-c0c3-48ee-ec66-d3bc38528630"
      },
      "source": [
        "#tickers = ['AAPL']#,'GOGO','TSLA','NKE','SPY']\n",
        "#data = web.DataReader(tickers , 'yahoo', start='2018/01/01', end='2019/12/31')\n",
        "data = yf.download(tickers=\"AAPL\" ,period=\"1y\",interval=\"60m\")\n",
        "\n",
        "# data = yf.download(tickers=[\"MSFT\",'GOGO'] ,period=\"2y\",interval=\"60m\")\n",
        "# data.head()#\n",
        "\n",
        "#data.columns = ['Adj close' , 'Close' , 'High' , 'Low' , 'Open' , 'Volume']\n",
        "data['open']=data['Open'].shift(1)\n",
        "data['high']=data['High'].shift(1)\n",
        "data['low']=data['Low'].shift(1)\n",
        "data['close']=data['Close'].shift(1)\n",
        "data['volume']=data['Volume'].shift(1)\n",
        "data['adj close']=data['Adj Close'].shift(1)"
      ],
      "execution_count": null,
      "outputs": [
        {
          "output_type": "stream",
          "text": [
            "\r[*********************100%***********************]  1 of 1 completed\n"
          ],
          "name": "stdout"
        }
      ]
    },
    {
      "cell_type": "code",
      "metadata": {
        "id": "SM8WxH8_7yrU"
      },
      "source": [
        "alpha = pd.DataFrame(index=data.index).sort_index()\n",
        "\n",
        "#### Overlap Studies #####\n",
        "\n",
        "close = data.close\n",
        "high = data.high\n",
        "low = data.low\n",
        "open = data.open\n",
        "volume = data.volume\n",
        "adj_close = data['adj close']\n",
        "\n",
        "from talib import (RSI, BBANDS, MACD , ADX , DEMA , EMA , HT_TRENDLINE , KAMA , MA , MAMA , \n",
        "                   MAVP, MIDPOINT , MIDPRICE , SAR , SAREXT , SMA , T3, TEMA , TRIMA , WMA)\n",
        "\n",
        "\n",
        "alpha['up_band'], alpha['mid_band'], alpha['low_band'] = BBANDS(close , timeperiod=20 ,nbdevup=2, nbdevdn=2, matype=0)\n",
        "alpha['up'], alpha['mid'], alpha['low_'] = BBANDS(adj_close , timeperiod=20, nbdevup=2, nbdevdn=2, matype=0)\n",
        "alpha['macd'], alpha['macdsignal'], alpha['macdhist'] = MACD(close, fastperiod=12, slowperiod=26, signalperiod=9)\n",
        "alpha['DEMA'] = DEMA(close, timeperiod=30)\n",
        "alpha['EMA'] = EMA(close, timeperiod=30)\n",
        "alpha['HT_TRENDLINE'] = HT_TRENDLINE(close)\n",
        "alpha['KAMA'] = KAMA(close, timeperiod=30)\n",
        "alpha['MA'] = MA(close, timeperiod=30, matype=0)\n",
        "#alpha['mama'], alpha['fama'] = MAMA(close, fastlimit=0, slowlimit=0)\n",
        "#alpha['MAVP'] = MAVP(close, periods= 3, minperiod=2, maxperiod=30, matype=0)\n",
        "alpha['MIDPOINT'] = MIDPOINT(close, timeperiod=14)\n",
        "alpha['MIDPRICE'] = MIDPRICE(high, low, timeperiod=14)\n",
        "alpha['SAR'] = SAR(high, low, acceleration=0, maximum=0)\n",
        "alpha['SAREXT'] = SAREXT(high, low, startvalue=0, offsetonreverse=0, accelerationinitlong=0, accelerationlong=0, accelerationmaxlong=0, accelerationinitshort=0, accelerationshort=0, accelerationmaxshort=0)\n",
        "alpha['SMA'] = SMA(close, timeperiod=30)\n",
        "alpha['T3'] = T3(close, timeperiod=5, vfactor=0)\n",
        "alpha['TEMA'] = TEMA(close, timeperiod=30)\n",
        "alpha['TRIMA'] = TRIMA(close, timeperiod=30)\n",
        "alpha['WMA'] = WMA(close, timeperiod=30)\n",
        "\n"
      ],
      "execution_count": null,
      "outputs": []
    },
    {
      "cell_type": "code",
      "metadata": {
        "id": "huDQ03gcm2tH"
      },
      "source": [
        "## Momentum ####\n",
        "import talib as ta\n",
        "from talib import ( ADX , ADXR , APO  , AROON , AROONOSC , BOP, CCI , CMO , DX , MACDFIX , MFI , MINUS_DI,\n",
        "                   MINUS_DM , MOM , PLUS_DI , PLUS_DM , PPO , ROC , ROCP ,  ROCR , ROCR100 , RSI  , MACDEXT,MACDFIX,\n",
        "                   STOCH , STOCHF , STOCHRSI, TRIX , ULTOSC , WILLR)\n",
        "\n",
        "alpha['ADX'] = ADX(high, low, close, timeperiod=14)\n",
        "alpha['ADXR'] = ADXR(high, low, close, timeperiod=14)\n",
        "alpha['APO'] = APO(close, fastperiod=12, slowperiod=26, matype=0)\n",
        "alpha['aroondown'], alpha['aroonup'] = AROON(high, low, timeperiod=14)\n",
        "alpha['AROONOSC'] = AROONOSC(high, low, timeperiod=14)\n",
        "alpha['BOP'] = BOP(open, high, low, close)\n",
        "alpha['CCI'] = CCI(high, low, close, timeperiod=14)\n",
        "alpha['CMO'] = CMO(close, timeperiod=14)\n",
        "alpha['DX'] = DX(high, low, close, timeperiod=14)\n",
        "alpha['macd'], alpha['macdsignal'], alpha['macdhist'] = MACD(close, fastperiod=12, slowperiod=26, signalperiod=9)\n",
        "alpha['macd_1'], alpha['macdsignal_1'], alpha['macdhist_1'] = MACDEXT(close, fastperiod=12, fastmatype=0, slowperiod=26, slowmatype=0, signalperiod=9, signalmatype=0)\n",
        "alpha['macd_1'], alpha['macdsignal_1'], alpha['macdhist_1'] = MACDFIX(close, signalperiod=9)\n",
        "alpha['MFI'] = MFI(high, low, close, volume, timeperiod=14)\n",
        "alpha['MINUS_DI'] = MINUS_DI(high, low, close, timeperiod=14)\n",
        "alpha['MINUS_DM'] = MINUS_DM(high, low, timeperiod=14)\n",
        "alpha['MOM'] = MOM(close, timeperiod=10)\n",
        "alpha['PLUS_DI'] = PLUS_DI(high, low, close, timeperiod=14)\n",
        "alpha['PLUS_DM'] = PLUS_DM(high, low, timeperiod=14)\n",
        "alpha['PPO'] = PPO(close, fastperiod=12, slowperiod=26, matype=0)\n",
        "alpha['ROC'] = ROC(close, timeperiod=10)\n",
        "alpha['ROCP'] = ROCP(close, timeperiod=10)\n",
        "alpha['ROCR'] = ROCR(close, timeperiod=10)\n",
        "alpha['ROCR100'] = ROCR100(close, timeperiod=10)\n",
        "alpha['RSI'] = RSI(close, timeperiod=14)\n",
        "alpha['slowk'], alpha['slowd'] = STOCH(high, low, close, fastk_period=5, slowk_period=3, slowk_matype=0, slowd_period=3, slowd_matype=0)\n",
        "alpha['fastk_F'], alpha['fastd_F'] = STOCHF(high, low, close, fastk_period=5, fastd_period=3, fastd_matype=0)\n",
        "alpha['fastk_RSI'], alpha['fastd_RSI'] = STOCHRSI(close, timeperiod=14, fastk_period=5, fastd_period=3, fastd_matype=0)\n",
        "alpha['TRIX'] = TRIX(close, timeperiod=30)\n",
        "alpha['ULTOSC'] = ULTOSC(high, low, close, timeperiod1=7, timeperiod2=14, timeperiod3=28)\n",
        "alpha['WILLR'] = WILLR(high, low, close, timeperiod=14)\n"
      ],
      "execution_count": null,
      "outputs": []
    },
    {
      "cell_type": "code",
      "metadata": {
        "id": "YE-_5StEcJWa"
      },
      "source": [
        "\n",
        "\n",
        "alpha['CDL2CROWS'] = ta.CDL2CROWS(open, high, low, close)\n",
        "alpha['CDL3BLACKCROWS'] = ta.CDL3BLACKCROWS(open, high, low, close)\n",
        "alpha['CDL3INSIDE'] = ta.CDL3INSIDE(open, high, low, close)\n",
        "alpha['CDL3LINESTRIKE'] = ta.CDL3LINESTRIKE(open, high, low, close)\n",
        "alpha['CDL3OUTSIDE'] = ta.CDL3OUTSIDE(open, high, low, close)\n",
        "alpha['CDL3STARSINSOUTH'] = ta.CDL3STARSINSOUTH(open, high, low, close)\n",
        "alpha['CDL3WHITESOLDIERS'] = ta.CDL3WHITESOLDIERS(open, high, low, close)\n",
        "alpha['CDLABANDONEDBABY'] = ta.CDLABANDONEDBABY(open, high, low, close, penetration=0)\n",
        "alpha['CDLADVANCEBLOCK'] = ta.CDLADVANCEBLOCK(open, high, low, close)\n",
        "alpha['CDLBELTHOLD'] = ta.CDLBELTHOLD(open, high, low, close)\n",
        "alpha['CDLBREAKAWAY'] = ta.CDLBREAKAWAY(open, high, low, close)\n",
        "alpha['CDLCLOSINGMARUBOZU'] = ta.CDLCLOSINGMARUBOZU(open, high, low, close)\n",
        "alpha['CDLCONCEALBABYSWALL'] = ta.CDLCONCEALBABYSWALL(open, high, low, close)\n",
        "alpha['CDLCONCEALBABYSWALL'] = ta.CDLCONCEALBABYSWALL(open, high, low, close)\n",
        "alpha['CDLCOUNTERATTACK'] = ta.CDLCOUNTERATTACK(open, high, low, close)\n",
        "alpha['CDLDARKCLOUDCOVER'] = ta.CDLDARKCLOUDCOVER(open, high, low, close, penetration=0)\n",
        "alpha['CDLDOJI'] = ta.CDLDOJI(open, high, low, close)\n",
        "alpha['CDLDOJISTAR'] = ta.CDLDOJISTAR(open, high, low, close)\n",
        "alpha['CDLDRAGONFLYDOJI'] = ta.CDLDRAGONFLYDOJI(open, high, low, close)\n",
        "alpha['CDLENGULFING'] = ta.CDLENGULFING(open, high, low, close)\n",
        "alpha['CDLEVENINGDOJISTAR'] = ta.CDLEVENINGDOJISTAR(open, high, low, close, penetration=0)\n",
        "alpha['CDLEVENINGSTAR'] = ta.CDLEVENINGSTAR(open, high, low, close, penetration=0)\n",
        "alpha['CDLGAPSIDESIDEWHITE'] = ta.CDLGAPSIDESIDEWHITE(open, high, low, close)\n",
        "alpha['CDLGRAVESTONEDOJI'] = ta.CDLGRAVESTONEDOJI(open, high, low, close)\n",
        "alpha['CDLHAMMER'] = ta.CDLHAMMER(open, high, low, close)\n",
        "alpha['CDLHANGINGMAN'] = ta.CDLHANGINGMAN(open, high, low, close)\n",
        "alpha['CDLHARAMI'] = ta.CDLHARAMI(open, high, low, close)\n",
        "alpha['CDLHARAMICROSS'] = ta.CDLHARAMICROSS(open, high, low, close)\n",
        "alpha['CDLHIGHWAVE'] = ta.CDLHIGHWAVE(open, high, low, close)\n",
        "alpha['CDLHIKKAKE'] = ta.CDLHIKKAKE(open, high, low, close)\n",
        "alpha['CDLHIKKAKEMOD'] = ta.CDLHIKKAKEMOD(open, high, low, close)\n",
        "alpha['CDLHOMINGPIGEON'] = ta.CDLHOMINGPIGEON(open, high, low, close)\n",
        "alpha['CDLIDENTICAL3CROWS'] = ta.CDLIDENTICAL3CROWS(open, high, low, close)\n",
        "alpha['CDLINNECK'] = ta.CDLINNECK(open, high, low, close)\n",
        "alpha['CDLINVERTEDHAMMER'] = ta.CDLINVERTEDHAMMER(open, high, low, close)\n",
        "alpha['CDLKICKING'] = ta.CDLKICKING(open, high, low, close)\n",
        "alpha['CDLKICKINGBYLENGTH'] = ta.CDLKICKINGBYLENGTH(open, high, low, close)\n",
        "alpha['CDLLADDERBOTTOM'] = ta.CDLLADDERBOTTOM(open, high, low, close)\n",
        "alpha['CDLLONGLEGGEDDOJI'] = ta.CDLLONGLEGGEDDOJI(open, high, low, close)\n",
        "alpha['CDLLONGLINE'] = ta.CDLLONGLINE(open, high, low, close)\n",
        "alpha['CDLMARUBOZU'] = ta.CDLMARUBOZU(open, high, low, close)\n",
        "alpha['CDLMATCHINGLOW'] = ta.CDLMATCHINGLOW(open, high, low, close)\n",
        "alpha['CDLMATHOLD'] = ta.CDLMATHOLD(open, high, low, close, penetration=0)\n",
        "alpha['CDLMORNINGDOJISTAR'] = ta.CDLMORNINGDOJISTAR(open, high, low, close, penetration=0)\n",
        "alpha['CDLMORNINGSTAR'] = ta.CDLMORNINGSTAR(open, high, low, close, penetration=0)\n",
        "alpha['CDLONNECK'] = ta.CDLONNECK(open, high, low, close)\n",
        "alpha['CDLPIERCING'] = ta.CDLPIERCING(open, high, low, close)\n",
        "alpha['CDLRICKSHAWMAN'] = ta.CDLRICKSHAWMAN(open, high, low, close)\n",
        "alpha['CDLRISEFALL3METHODS'] = ta.CDLRISEFALL3METHODS(open, high, low, close)\n",
        "alpha['CDLSEPARATINGLINES'] = ta.CDLSEPARATINGLINES(open, high, low, close)\n",
        "alpha['CDLSHOOTINGSTAR'] = ta.CDLSHOOTINGSTAR(open, high, low, close)\n",
        "alpha['CDLSHORTLINE'] = ta.CDLSHORTLINE(open, high, low, close)\n",
        "alpha['CDLSPINNINGTOP'] = ta.CDLSPINNINGTOP(open, high, low, close)\n",
        "alpha['CDLSTALLEDPATTERN'] = ta.CDLSTALLEDPATTERN(open, high, low, close)\n",
        "alpha['CDLSTICKSANDWICH'] = ta.CDLSTICKSANDWICH(open, high, low, close)\n",
        "alpha['CDLTAKURI'] = ta.CDLTAKURI(open, high, low, close)\n",
        "alpha['CDLTASUKIGAP'] = ta.CDLTASUKIGAP(open, high, low, close)\n",
        "alpha['CDLTHRUSTING'] = ta.CDLTHRUSTING(open, high, low, close)\n",
        "alpha['CDLTRISTAR'] = ta.CDLTRISTAR(open, high, low, close)\n",
        "alpha['CDLUNIQUE3RIVER'] = ta.CDLUNIQUE3RIVER(open, high, low, close)\n",
        "alpha['CDLUPSIDEGAP2CROWS'] = ta.CDLUPSIDEGAP2CROWS(open, high, low, close)\n",
        "alpha['CDLXSIDEGAP3METHODS'] = ta.CDLXSIDEGAP3METHODS(open, high, low, close)\n"
      ],
      "execution_count": null,
      "outputs": []
    },
    {
      "cell_type": "code",
      "metadata": {
        "id": "-FGl8zwrU5gT"
      },
      "source": [
        "#### Volume Indicator Functions\n",
        "\n",
        "from talib import AD, ADOSC , OBV\n",
        "\n",
        "alpha['AD'] = AD(high, low, close, volume)\n",
        "alpha['ADOSC'] = ADOSC(high, low, close, volume, fastperiod=3, slowperiod=10)\n",
        "alpha['OBV'] = OBV(close, volume)\n"
      ],
      "execution_count": null,
      "outputs": []
    },
    {
      "cell_type": "code",
      "metadata": {
        "id": "HGyIfAgEVdmQ"
      },
      "source": [
        "###### Volatility Indicator Functions\n",
        "\n",
        "from  talib import   ATR , TRANGE , NATR\n",
        "\n",
        "alpha['ATR'] = ATR(high, low, close, timeperiod=14)\n",
        "alpha['NATR'] = NATR(high, low, close, timeperiod=14)\n",
        "alpha['TRANGE'] = TRANGE(high, low, close)\n"
      ],
      "execution_count": null,
      "outputs": []
    },
    {
      "cell_type": "code",
      "metadata": {
        "id": "lSe4w8FsaYlw"
      },
      "source": [
        "#### Price Transform Functions\n",
        "from talib import AVGPRICE, MEDPRICE  , TYPPRICE , WCLPRICE\n",
        "\n",
        "alpha['AVGPRICE'] = AVGPRICE(open, high, low, close)\n",
        "alpha['MEDPRICE'] = MEDPRICE(high, low)\n",
        "alpha['TYPPRICE'] = TYPPRICE(high, low, close)\n",
        "alpha['WCLPRICE'] = WCLPRICE(high, low, close)"
      ],
      "execution_count": null,
      "outputs": []
    },
    {
      "cell_type": "code",
      "metadata": {
        "id": "aN2fE88vadv6"
      },
      "source": [
        "####### Volatality \n",
        "from talib import  HT_DCPERIOD , HT_DCPHASE , HT_PHASOR, HT_SINE, HT_TRENDMODE\n",
        "\n",
        "alpha['HT_DCPERIOD'] = HT_DCPERIOD(close)\n",
        "alpha['HT_DCPHASE'] = HT_DCPHASE(close)\n",
        "alpha['inphase'], alpha['quadrature'] = HT_PHASOR(close)\n",
        "alpha['sine'], alpha['leadsine'] = HT_SINE(close)\n",
        "alpha['alpha'] = HT_TRENDMODE(close)\n"
      ],
      "execution_count": null,
      "outputs": []
    },
    {
      "cell_type": "code",
      "metadata": {
        "id": "J0XfKdKzagGn"
      },
      "source": [
        "######### Statistic Functions\n",
        "from talib import BETA , CORREL, LINEARREG, LINEARREG_ANGLE, LINEARREG_INTERCEPT, LINEARREG_SLOPE, LINEARREG_SLOPE, STDDEV , TSF\n",
        "\n",
        "alpha['BETA'] = BETA(high, low, timeperiod=5)\n",
        "alpha['CORREL'] = CORREL(high, low, timeperiod=30)\n",
        "alpha['LINEARREG'] = LINEARREG(close, timeperiod=14)\n",
        "alpha['LINEARREG_ANGLE'] = LINEARREG_ANGLE(close, timeperiod=14)\n",
        "alpha['LINEARREG_INTERCEPT'] = LINEARREG_INTERCEPT(close, timeperiod=14)\n",
        "alpha['LINEARREG_SLOPE'] = LINEARREG_SLOPE(close, timeperiod=14)\n",
        "alpha['STDDEV'] = STDDEV(close, timeperiod=5, nbdev=1)\n",
        "alpha['TSF'] = TSF(close, timeperiod=14)\n",
        "#['VAR'] = VAR(close, timeperiod=5, nbdev=1)\n"
      ],
      "execution_count": null,
      "outputs": []
    },
    {
      "cell_type": "code",
      "metadata": {
        "id": "mEZSRzQ1sKUV"
      },
      "source": [
        "### Math Operator Functions\n",
        "from talib import ADD, DIV , MAX , MAXINDEX, MIN, MININDEX , MULT, SUB , SUM\n",
        "\n",
        "alpha['ADD'] = ADD(high, low)\n",
        "alpha['DIV'] = DIV(high, low)\n",
        "alpha['MAX'] = MAX(close, timeperiod=30)\n",
        "#alpha['MAXINDEX'] = MAXINDEX(close, timeperiod=30)\n",
        "alpha['MIN'] = MIN(close, timeperiod=30)\n",
        "#alpha['MININDEX'] = MININDEX(close, timeperiod=30)\n",
        "alpha['MULT'] = MULT(high, low)\n",
        "alpha['SUB'] = SUB(high, low)\n",
        "alpha['SUM'] = SUM(close, timeperiod=30)"
      ],
      "execution_count": null,
      "outputs": []
    },
    {
      "cell_type": "code",
      "metadata": {
        "id": "OnHTFaJOI_W3"
      },
      "source": [
        "!pip install ta"
      ],
      "execution_count": null,
      "outputs": []
    },
    {
      "cell_type": "code",
      "metadata": {
        "id": "O8d8zNIqHxMB"
      },
      "source": [
        "import ta\n",
        "\n",
        "alpha['awesome_oscillator']=ta.momentum.awesome_oscillator(high, low, window1=5, window2=34, fillna=False)\n",
        "alpha['ppo_hist']=ta.momentum.ppo_hist(close, window_slow = 26, window_fast = 12, window_sign = 9, fillna= False)\n",
        "alpha['ppo_signal']=ta.momentum.ppo_signal(close, window_slow=26, window_fast=12, window_sign=9, fillna=False)\n",
        "alpha['pvo']=ta.momentum.pvo(volume, window_slow = 26, window_fast = 12, window_sign = 9, fillna= False) \n",
        "alpha['pvo_hist']=ta.momentum.pvo_hist(volume, window_slow = 26, window_fast = 12, window_sign = 9, fillna= False) \n",
        "alpha['pvo_signal']=ta.momentum.pvo_signal(volume, window_slow = 26, window_fast = 12, window_sign = 9, fillna= False)\n",
        "alpha['roc']=ta.momentum.roc(close, window = 12, fillna= False)\n",
        "alpha['stoch_signal']=ta.momentum.stoch_signal(high, low, close, window=14, smooth_window=3, fillna=False) \n",
        "alpha['stochrsi_d']=ta.momentum.stochrsi_d(close, window = 14, smooth1 = 3, smooth2 = 3, fillna= False)\n",
        "alpha['stochrsi_k']=ta.momentum.stochrsi_k(close, window = 14, smooth1 = 3, smooth2 = 3, fillna= False)\n",
        "alpha['tsi']=ta.momentum.tsi(close, window_slow=25, window_fast=13, fillna=False)\n",
        "alpha['ultimate_oscillator']=ta.momentum.ultimate_oscillator(high, low, close, window1=7, window2=14, window3=28, weight1=4.0, weight2=2.0, weight3=1.0, fillna=False)\n",
        "\n",
        "\n",
        "#alpha['AverageTrueRange']=ta.volatility.AverageTrueRange(high, low, close, window = 14, fillna= False)\n",
        "#alpha['bollinger_hband_indicator']=ta.volatility.bollinger_hband_indicator(close, window=20, window_dev=2, fillna=False)\n",
        "alpha['bollinger_lband']=ta.volatility.bollinger_lband(close, window=20, window_dev=2, fillna=False)\n",
        "alpha['bollinger_mavg']=ta.volatility.bollinger_mavg(close, window=20, fillna=False)\n",
        "alpha['bollinger_pband']=ta.volatility.bollinger_pband(close, window=20, window_dev=2, fillna=False)\n",
        "alpha['bollinger_wband']=ta.volatility.bollinger_wband(close, window=20, window_dev=2, fillna=False)\n",
        "alpha['donchian_channel_hband']=ta.volatility.donchian_channel_hband(high, low, close, window=20, offset=0, fillna=False)\n",
        "alpha['donchian_channel_lband']=ta.volatility.donchian_channel_lband(high, low, close, window=20, offset=0, fillna=False)\n",
        "alpha['donchian_channel_mband']=ta.volatility.donchian_channel_mband(high, low, close, window=10, offset=0, fillna=False)\n",
        "alpha['donchian_channel_pband']=ta.volatility.donchian_channel_pband(high, low, close, window=10, offset=0, fillna=False)\n",
        "alpha['donchian_channel_wband']=ta.volatility.donchian_channel_wband(high, low, close, window=10, offset=0, fillna=False)\n",
        "alpha['keltner_channel_hband']=ta.volatility.keltner_channel_hband(high, low, close, window=20, window_atr=10, fillna=False, original_version=True)\n",
        "#alpha['keltner_channel_hband_indicator']=ta.volatility.keltner_channel_hband_indicator(high, low, close, window=20, window_atr=10, fillna=False, original_version=True)\n",
        "alpha['keltner_channel_lband']=ta.volatility.keltner_channel_lband(high, low, close, window=20, window_atr=10, fillna=False, original_version=True)\n",
        "#alpha['keltner_channel_lband_indicator']=ta.volatility.keltner_channel_lband_indicator(high, low, close, window=20, window_atr=10, fillna=False, original_version=True)\n",
        "alpha['keltner_channel_mband']=ta.volatility.keltner_channel_mband(high, low, close, window=20, window_atr=10, fillna=False, original_version=True)\n",
        "alpha['keltner_channel_pband']=ta.volatility.keltner_channel_pband(high, low, close, window=20, window_atr=10, fillna=False, original_version=True)\n",
        "alpha['keltner_channel_wband']=ta.volatility.keltner_channel_wband(high, low, close, window=20, window_atr=10, fillna=False, original_version=True)\n",
        "alpha['ulcer_index']=ta.volatility.ulcer_index(close, window=14, fillna=False)\n",
        "\n",
        "alpha['adx']=ta.trend.adx(high, low, close, window=14, fillna=False)\n",
        "alpha['adx_neg']=ta.trend.adx_neg(high, low, close, window=14, fillna=False)\n",
        "alpha['adx_pos']=ta.trend.adx_pos(high, low, close, window=14, fillna=False)\n",
        "alpha['aroon_down']=ta.trend.aroon_down(close, window=25, fillna=False)\n",
        "alpha['aroon_up']=ta.trend.aroon_up(close, window=25, fillna=False)\n",
        "alpha['dpo']=ta.trend.dpo(close, window=20, fillna=False)\n",
        "alpha['ichimoku_a']=ta.trend.ichimoku_a(high, low, window1=9, window2=26, visual=False, fillna=False)\n",
        "alpha['ichimoku_b']=ta.trend.ichimoku_b(high, low, window2=26, window3=52, visual=False, fillna=False)\n",
        "alpha['ichimoku_base_line']=ta.trend.ichimoku_base_line(high, low, window1=9, window2=26, visual=False, fillna=False) \n",
        "alpha['ichimoku_conversion_line']=ta.trend.ichimoku_conversion_line(high, low, window1=9, window2=26, visual=False, fillna=False) \n",
        "alpha['kst']=ta.trend.kst(close, roc1=10, roc2=15, roc3=20, roc4=30, window1=10, window2=10, window3=10, window4=15, fillna=False)\n",
        "alpha['kst_sig']=ta.trend.kst_sig(close, roc1=10, roc2=15, roc3=20, roc4=30, window1=10, window2=10, window3=10, window4=15, nsig=9, fillna=False)\n",
        "alpha['macd_diff']=ta.trend.macd_diff(close, window_slow=26, window_fast=12, window_sign=9, fillna=False)\n",
        "alpha['mass_index']=ta.trend.mass_index(high, low, window_fast=9, window_slow=25, fillna=False)\n",
        "#alpha['psar_down']=ta.trend.psar_down(high, low, close, step=0.02, max_step=0.2, fillna=False)\n",
        "#alpha['psar_down_indicator']=ta.trend.psar_down_indicator(high, low, close, step=0.02, max_step=0.2, fillna=False)\n",
        "#alpha['psar_up']=ta.trend.psar_up(high, low, close, step=0.02, max_step=0.2, fillna=False)\n",
        "#alpha['psar_up_indicator']=ta.trend.psar_up_indicator(high, low, close, step=0.02, max_step=0.2, fillna=False)\n",
        "#alpha['sma_indicator']=ta.trend.sma_indicator(close, window=12, fillna=False)\n",
        "alpha['stc']=ta.trend.stc(close, window_slow=50, window_fast=23, cycle=10, smooth1=3, smooth2=3, fillna=False)\n",
        "#alpha['vortex_indicator_neg']=ta.trend.vortex_indicator_neg(high, low, close, window=14, fillna=False)\n",
        "#alpha['vortex_indicator_pos']=ta.trend.vortex_indicator_pos(high, low, close, window=14, fillna=False)\n",
        "\n",
        "#alpha['cumulative_return']=ta.others.cumulative_return(close, fillna=False)\n",
        "\n",
        "alpha['acc_dist_index']=ta.volume.acc_dist_index(high, low, close, volume, fillna=False)\n",
        "alpha['chaikin_money_flow']=ta.volume.chaikin_money_flow(high, low, close, volume, window=20, fillna=False)\n",
        "alpha['ease_of_movement']=ta.volume.ease_of_movement(high, low, volume, window=14, fillna=False)\n",
        "alpha['force_index']=ta.volume.force_index(close, volume, window=13, fillna=False)\n",
        "alpha['money_flow_index']=ta.volume.money_flow_index(high, low, close, volume, window=14, fillna=False)\n",
        "alpha['negative_volume_index']=ta.volume.negative_volume_index(close, volume, fillna=False)\n",
        "alpha['on_balance_volume']=ta.volume.on_balance_volume(close, volume, fillna=False)\n",
        "#alpha['sma_ease_of_movement']=ta.volume.sma_ease_of_movement(high, low, volume, window=14, fillna=False)\n",
        "alpha['volume_price_trend']=ta.volume.volume_price_trend(close, volume, fillna=False)\n",
        "alpha['volume_weighted_average_price']=ta.volume.volume_weighted_average_price(high, low, close, volume, window = 14, fillna= False)\n",
        "\n"
      ],
      "execution_count": null,
      "outputs": []
    },
    {
      "cell_type": "code",
      "metadata": {
        "id": "9DVomkwjV1qp"
      },
      "source": [
        "class OneStepTimeSeriesSplit:\n",
        "   \n",
        "    def __init__(self, n_splits=3, test_period_length=1, shuffle=False):\n",
        "        self.n_splits = n_splits\n",
        "        self.test_period_length = test_period_length\n",
        "        self.shuffle = shuffle\n",
        "        self.test_end = n_splits * test_period_length\n",
        "\n",
        "    @staticmethod\n",
        "    def chunks(l, chunk_size):\n",
        "        for i in range(0, len(l), chunk_size):\n",
        "            yield l[i:i + chunk_size]\n",
        "\n",
        "    def split(self, X, y=None, groups=None):\n",
        "        unique_dates = (X.index\n",
        "                            .get_level_values('date')\n",
        "                            .unique()\n",
        "                            .sort_values(ascending=False)[:self.test_end])\n",
        "\n",
        "        dates = X.reset_index()[['date']]\n",
        "        for test_date in self.chunks(unique_dates, self.test_period_length):\n",
        "            train_idx = dates[dates.date < min(test_date)].index\n",
        "            test_idx = dates[dates.date.isin(test_date)].index\n",
        "            if self.shuffle:\n",
        "                np.random.shuffle(list(train_idx))\n",
        "            yield train_idx, test_idx\n",
        "\n",
        "    def get_n_splits(self, X, y, groups=None):\n",
        "        return self.n_splits\n"
      ],
      "execution_count": null,
      "outputs": []
    },
    {
      "cell_type": "code",
      "metadata": {
        "id": "yE5ZIYSRyrnE",
        "colab": {
          "base_uri": "https://localhost:8080/"
        },
        "outputId": "b035d723-65de-4783-8cc8-ff82189dca9f"
      },
      "source": [
        "import xgboost as xgb\n",
        "from sklearn.metrics import mean_squared_error\n",
        "from sklearn.model_selection import TimeSeriesSplit\n",
        "\n",
        "tss = OneStepTimeSeriesSplit(n_splits=100,test_period_length=1 , shuffle=False)\n",
        "\n",
        "y = data['Close']\n",
        "alpha.index.name = 'date' \n",
        "\n",
        "\n",
        "reg = xgb.XGBRegressor(n_estimators=1500)\n",
        "rmse = []\n",
        "predictions = []\n",
        "actual = []\n",
        "\n",
        "for train_index, test_index in tss.split(alpha):\n",
        "    X_train, X_test = alpha.iloc[train_index, :], alpha.iloc[test_index,:]\n",
        "    y_train, y_test = y.iloc[train_index], y.iloc[test_index]\n",
        "    reg.fit(X_train, y_train,\n",
        "        eval_set=[(X_train, y_train), (X_test, y_test)],\n",
        "        early_stopping_rounds=50,\n",
        "        verbose=False)\n",
        "    test = reg.predict(X_test)\n",
        "    true_values = y_test.values\n",
        "    rmse.append(mean_squared_error(true_values, test))\n",
        "    predictions.append(test)\n",
        "    actual.append(true_values)\n",
        "\n",
        "print(\"RMSE: {}\".format(np.mean(rmse)))\n"
      ],
      "execution_count": null,
      "outputs": [
        {
          "output_type": "stream",
          "text": [
            "[10:43:39] WARNING: /workspace/src/objective/regression_obj.cu:152: reg:linear is now deprecated in favor of reg:squarederror.\n",
            "[10:43:44] WARNING: /workspace/src/objective/regression_obj.cu:152: reg:linear is now deprecated in favor of reg:squarederror.\n",
            "[10:43:50] WARNING: /workspace/src/objective/regression_obj.cu:152: reg:linear is now deprecated in favor of reg:squarederror.\n",
            "[10:43:56] WARNING: /workspace/src/objective/regression_obj.cu:152: reg:linear is now deprecated in favor of reg:squarederror.\n",
            "[10:44:00] WARNING: /workspace/src/objective/regression_obj.cu:152: reg:linear is now deprecated in favor of reg:squarederror.\n",
            "[10:44:03] WARNING: /workspace/src/objective/regression_obj.cu:152: reg:linear is now deprecated in favor of reg:squarederror.\n",
            "[10:44:09] WARNING: /workspace/src/objective/regression_obj.cu:152: reg:linear is now deprecated in favor of reg:squarederror.\n",
            "[10:44:13] WARNING: /workspace/src/objective/regression_obj.cu:152: reg:linear is now deprecated in favor of reg:squarederror.\n",
            "[10:44:17] WARNING: /workspace/src/objective/regression_obj.cu:152: reg:linear is now deprecated in favor of reg:squarederror.\n",
            "[10:44:22] WARNING: /workspace/src/objective/regression_obj.cu:152: reg:linear is now deprecated in favor of reg:squarederror.\n",
            "[10:44:28] WARNING: /workspace/src/objective/regression_obj.cu:152: reg:linear is now deprecated in favor of reg:squarederror.\n",
            "[10:44:34] WARNING: /workspace/src/objective/regression_obj.cu:152: reg:linear is now deprecated in favor of reg:squarederror.\n",
            "[10:44:42] WARNING: /workspace/src/objective/regression_obj.cu:152: reg:linear is now deprecated in favor of reg:squarederror.\n",
            "[10:44:47] WARNING: /workspace/src/objective/regression_obj.cu:152: reg:linear is now deprecated in favor of reg:squarederror.\n",
            "[10:44:52] WARNING: /workspace/src/objective/regression_obj.cu:152: reg:linear is now deprecated in favor of reg:squarederror.\n",
            "[10:44:55] WARNING: /workspace/src/objective/regression_obj.cu:152: reg:linear is now deprecated in favor of reg:squarederror.\n",
            "[10:44:58] WARNING: /workspace/src/objective/regression_obj.cu:152: reg:linear is now deprecated in favor of reg:squarederror.\n",
            "[10:45:02] WARNING: /workspace/src/objective/regression_obj.cu:152: reg:linear is now deprecated in favor of reg:squarederror.\n",
            "[10:45:05] WARNING: /workspace/src/objective/regression_obj.cu:152: reg:linear is now deprecated in favor of reg:squarederror.\n",
            "[10:45:09] WARNING: /workspace/src/objective/regression_obj.cu:152: reg:linear is now deprecated in favor of reg:squarederror.\n",
            "[10:45:13] WARNING: /workspace/src/objective/regression_obj.cu:152: reg:linear is now deprecated in favor of reg:squarederror.\n",
            "[10:45:17] WARNING: /workspace/src/objective/regression_obj.cu:152: reg:linear is now deprecated in favor of reg:squarederror.\n",
            "[10:45:22] WARNING: /workspace/src/objective/regression_obj.cu:152: reg:linear is now deprecated in favor of reg:squarederror.\n",
            "[10:45:28] WARNING: /workspace/src/objective/regression_obj.cu:152: reg:linear is now deprecated in favor of reg:squarederror.\n",
            "[10:45:32] WARNING: /workspace/src/objective/regression_obj.cu:152: reg:linear is now deprecated in favor of reg:squarederror.\n",
            "[10:45:38] WARNING: /workspace/src/objective/regression_obj.cu:152: reg:linear is now deprecated in favor of reg:squarederror.\n",
            "[10:45:42] WARNING: /workspace/src/objective/regression_obj.cu:152: reg:linear is now deprecated in favor of reg:squarederror.\n",
            "[10:45:47] WARNING: /workspace/src/objective/regression_obj.cu:152: reg:linear is now deprecated in favor of reg:squarederror.\n",
            "[10:45:51] WARNING: /workspace/src/objective/regression_obj.cu:152: reg:linear is now deprecated in favor of reg:squarederror.\n",
            "[10:45:55] WARNING: /workspace/src/objective/regression_obj.cu:152: reg:linear is now deprecated in favor of reg:squarederror.\n",
            "[10:46:01] WARNING: /workspace/src/objective/regression_obj.cu:152: reg:linear is now deprecated in favor of reg:squarederror.\n",
            "[10:46:06] WARNING: /workspace/src/objective/regression_obj.cu:152: reg:linear is now deprecated in favor of reg:squarederror.\n",
            "[10:46:09] WARNING: /workspace/src/objective/regression_obj.cu:152: reg:linear is now deprecated in favor of reg:squarederror.\n",
            "[10:46:13] WARNING: /workspace/src/objective/regression_obj.cu:152: reg:linear is now deprecated in favor of reg:squarederror.\n",
            "[10:46:16] WARNING: /workspace/src/objective/regression_obj.cu:152: reg:linear is now deprecated in favor of reg:squarederror.\n",
            "[10:46:20] WARNING: /workspace/src/objective/regression_obj.cu:152: reg:linear is now deprecated in favor of reg:squarederror.\n",
            "[10:46:25] WARNING: /workspace/src/objective/regression_obj.cu:152: reg:linear is now deprecated in favor of reg:squarederror.\n",
            "[10:46:29] WARNING: /workspace/src/objective/regression_obj.cu:152: reg:linear is now deprecated in favor of reg:squarederror.\n",
            "[10:46:34] WARNING: /workspace/src/objective/regression_obj.cu:152: reg:linear is now deprecated in favor of reg:squarederror.\n",
            "[10:46:38] WARNING: /workspace/src/objective/regression_obj.cu:152: reg:linear is now deprecated in favor of reg:squarederror.\n",
            "[10:46:41] WARNING: /workspace/src/objective/regression_obj.cu:152: reg:linear is now deprecated in favor of reg:squarederror.\n",
            "[10:46:46] WARNING: /workspace/src/objective/regression_obj.cu:152: reg:linear is now deprecated in favor of reg:squarederror.\n",
            "[10:46:51] WARNING: /workspace/src/objective/regression_obj.cu:152: reg:linear is now deprecated in favor of reg:squarederror.\n",
            "[10:46:57] WARNING: /workspace/src/objective/regression_obj.cu:152: reg:linear is now deprecated in favor of reg:squarederror.\n",
            "[10:47:03] WARNING: /workspace/src/objective/regression_obj.cu:152: reg:linear is now deprecated in favor of reg:squarederror.\n",
            "[10:47:08] WARNING: /workspace/src/objective/regression_obj.cu:152: reg:linear is now deprecated in favor of reg:squarederror.\n",
            "[10:47:13] WARNING: /workspace/src/objective/regression_obj.cu:152: reg:linear is now deprecated in favor of reg:squarederror.\n",
            "[10:47:17] WARNING: /workspace/src/objective/regression_obj.cu:152: reg:linear is now deprecated in favor of reg:squarederror.\n",
            "[10:47:22] WARNING: /workspace/src/objective/regression_obj.cu:152: reg:linear is now deprecated in favor of reg:squarederror.\n",
            "[10:47:26] WARNING: /workspace/src/objective/regression_obj.cu:152: reg:linear is now deprecated in favor of reg:squarederror.\n",
            "[10:47:31] WARNING: /workspace/src/objective/regression_obj.cu:152: reg:linear is now deprecated in favor of reg:squarederror.\n",
            "[10:47:34] WARNING: /workspace/src/objective/regression_obj.cu:152: reg:linear is now deprecated in favor of reg:squarederror.\n",
            "[10:47:42] WARNING: /workspace/src/objective/regression_obj.cu:152: reg:linear is now deprecated in favor of reg:squarederror.\n",
            "[10:47:47] WARNING: /workspace/src/objective/regression_obj.cu:152: reg:linear is now deprecated in favor of reg:squarederror.\n",
            "[10:47:50] WARNING: /workspace/src/objective/regression_obj.cu:152: reg:linear is now deprecated in favor of reg:squarederror.\n",
            "[10:47:53] WARNING: /workspace/src/objective/regression_obj.cu:152: reg:linear is now deprecated in favor of reg:squarederror.\n",
            "[10:47:59] WARNING: /workspace/src/objective/regression_obj.cu:152: reg:linear is now deprecated in favor of reg:squarederror.\n",
            "[10:48:02] WARNING: /workspace/src/objective/regression_obj.cu:152: reg:linear is now deprecated in favor of reg:squarederror.\n",
            "[10:48:08] WARNING: /workspace/src/objective/regression_obj.cu:152: reg:linear is now deprecated in favor of reg:squarederror.\n",
            "[10:48:11] WARNING: /workspace/src/objective/regression_obj.cu:152: reg:linear is now deprecated in favor of reg:squarederror.\n",
            "[10:48:16] WARNING: /workspace/src/objective/regression_obj.cu:152: reg:linear is now deprecated in favor of reg:squarederror.\n",
            "[10:48:21] WARNING: /workspace/src/objective/regression_obj.cu:152: reg:linear is now deprecated in favor of reg:squarederror.\n",
            "[10:48:24] WARNING: /workspace/src/objective/regression_obj.cu:152: reg:linear is now deprecated in favor of reg:squarederror.\n",
            "[10:48:27] WARNING: /workspace/src/objective/regression_obj.cu:152: reg:linear is now deprecated in favor of reg:squarederror.\n",
            "[10:48:30] WARNING: /workspace/src/objective/regression_obj.cu:152: reg:linear is now deprecated in favor of reg:squarederror.\n",
            "[10:48:34] WARNING: /workspace/src/objective/regression_obj.cu:152: reg:linear is now deprecated in favor of reg:squarederror.\n",
            "[10:48:38] WARNING: /workspace/src/objective/regression_obj.cu:152: reg:linear is now deprecated in favor of reg:squarederror.\n",
            "[10:48:43] WARNING: /workspace/src/objective/regression_obj.cu:152: reg:linear is now deprecated in favor of reg:squarederror.\n",
            "[10:48:48] WARNING: /workspace/src/objective/regression_obj.cu:152: reg:linear is now deprecated in favor of reg:squarederror.\n",
            "[10:48:54] WARNING: /workspace/src/objective/regression_obj.cu:152: reg:linear is now deprecated in favor of reg:squarederror.\n",
            "[10:48:58] WARNING: /workspace/src/objective/regression_obj.cu:152: reg:linear is now deprecated in favor of reg:squarederror.\n",
            "[10:49:01] WARNING: /workspace/src/objective/regression_obj.cu:152: reg:linear is now deprecated in favor of reg:squarederror.\n",
            "[10:49:04] WARNING: /workspace/src/objective/regression_obj.cu:152: reg:linear is now deprecated in favor of reg:squarederror.\n",
            "[10:49:07] WARNING: /workspace/src/objective/regression_obj.cu:152: reg:linear is now deprecated in favor of reg:squarederror.\n",
            "[10:49:13] WARNING: /workspace/src/objective/regression_obj.cu:152: reg:linear is now deprecated in favor of reg:squarederror.\n",
            "[10:49:16] WARNING: /workspace/src/objective/regression_obj.cu:152: reg:linear is now deprecated in favor of reg:squarederror.\n",
            "[10:49:19] WARNING: /workspace/src/objective/regression_obj.cu:152: reg:linear is now deprecated in favor of reg:squarederror.\n",
            "[10:49:22] WARNING: /workspace/src/objective/regression_obj.cu:152: reg:linear is now deprecated in favor of reg:squarederror.\n",
            "[10:49:27] WARNING: /workspace/src/objective/regression_obj.cu:152: reg:linear is now deprecated in favor of reg:squarederror.\n",
            "[10:49:31] WARNING: /workspace/src/objective/regression_obj.cu:152: reg:linear is now deprecated in favor of reg:squarederror.\n",
            "[10:49:36] WARNING: /workspace/src/objective/regression_obj.cu:152: reg:linear is now deprecated in favor of reg:squarederror.\n",
            "[10:49:42] WARNING: /workspace/src/objective/regression_obj.cu:152: reg:linear is now deprecated in favor of reg:squarederror.\n",
            "[10:49:46] WARNING: /workspace/src/objective/regression_obj.cu:152: reg:linear is now deprecated in favor of reg:squarederror.\n",
            "[10:49:51] WARNING: /workspace/src/objective/regression_obj.cu:152: reg:linear is now deprecated in favor of reg:squarederror.\n",
            "[10:49:57] WARNING: /workspace/src/objective/regression_obj.cu:152: reg:linear is now deprecated in favor of reg:squarederror.\n",
            "[10:50:01] WARNING: /workspace/src/objective/regression_obj.cu:152: reg:linear is now deprecated in favor of reg:squarederror.\n",
            "[10:50:04] WARNING: /workspace/src/objective/regression_obj.cu:152: reg:linear is now deprecated in favor of reg:squarederror.\n",
            "[10:50:09] WARNING: /workspace/src/objective/regression_obj.cu:152: reg:linear is now deprecated in favor of reg:squarederror.\n",
            "[10:50:15] WARNING: /workspace/src/objective/regression_obj.cu:152: reg:linear is now deprecated in favor of reg:squarederror.\n",
            "[10:50:18] WARNING: /workspace/src/objective/regression_obj.cu:152: reg:linear is now deprecated in favor of reg:squarederror.\n",
            "[10:50:22] WARNING: /workspace/src/objective/regression_obj.cu:152: reg:linear is now deprecated in favor of reg:squarederror.\n",
            "[10:50:27] WARNING: /workspace/src/objective/regression_obj.cu:152: reg:linear is now deprecated in favor of reg:squarederror.\n",
            "[10:50:33] WARNING: /workspace/src/objective/regression_obj.cu:152: reg:linear is now deprecated in favor of reg:squarederror.\n",
            "[10:50:36] WARNING: /workspace/src/objective/regression_obj.cu:152: reg:linear is now deprecated in favor of reg:squarederror.\n",
            "[10:50:42] WARNING: /workspace/src/objective/regression_obj.cu:152: reg:linear is now deprecated in favor of reg:squarederror.\n",
            "[10:50:45] WARNING: /workspace/src/objective/regression_obj.cu:152: reg:linear is now deprecated in favor of reg:squarederror.\n",
            "[10:50:49] WARNING: /workspace/src/objective/regression_obj.cu:152: reg:linear is now deprecated in favor of reg:squarederror.\n",
            "[10:50:54] WARNING: /workspace/src/objective/regression_obj.cu:152: reg:linear is now deprecated in favor of reg:squarederror.\n",
            "[10:51:00] WARNING: /workspace/src/objective/regression_obj.cu:152: reg:linear is now deprecated in favor of reg:squarederror.\n",
            "[10:51:05] WARNING: /workspace/src/objective/regression_obj.cu:152: reg:linear is now deprecated in favor of reg:squarederror.\n",
            "RMSE: 0.2732011529931333\n"
          ],
          "name": "stdout"
        }
      ]
    },
    {
      "cell_type": "code",
      "metadata": {
        "id": "hXRS0D5NV6ww",
        "colab": {
          "base_uri": "https://localhost:8080/",
          "height": 609
        },
        "outputId": "50e61dda-51cf-4b9d-fa34-5da601cb39ec"
      },
      "source": [
        "import matplotlib.pyplot as plt\n",
        "actual.reverse()\n",
        "predictions.reverse()\n",
        "\n",
        "plt.figure(figsize = (15,10))\n",
        "plt.plot(actual , 'k--' , label = 'actual')\n",
        "plt.plot(predictions , 'r', label = 'predict')\n",
        "plt.legend()"
      ],
      "execution_count": null,
      "outputs": [
        {
          "output_type": "execute_result",
          "data": {
            "text/plain": [
              "<matplotlib.legend.Legend at 0x7f922efcf1d0>"
            ]
          },
          "metadata": {
            "tags": []
          },
          "execution_count": 26
        },
        {
          "output_type": "display_data",
          "data": {
            "image/png": "[encoded data removed]",
            "text/plain": [
              "<Figure size 1080x720 with 1 Axes>"
            ]
          },
          "metadata": {
            "tags": [],
            "needs_background": "light"
          }
        }
      ]
    },
    {
      "cell_type": "code",
      "metadata": {
        "id": "PNonjQaSWf3q"
      },
      "source": [
        "alpha_full = pd.concat([alpha , close, low, open, high, volume , adj_close] , 1)"
      ],
      "execution_count": null,
      "outputs": []
    },
    {
      "cell_type": "code",
      "metadata": {
        "id": "e9DLj_7bjK7e"
      },
      "source": [
        "import xgboost as xgb\n",
        "from sklearn.metrics import mean_squared_error\n",
        "from sklearn.model_selection import TimeSeriesSplit\n",
        "\n",
        "tss = OneStepTimeSeriesSplit(n_splits=100,test_period_length=1 , shuffle=False)\n",
        "\n",
        "y = data['Close']\n",
        "alpha.index.name = 'date' \n",
        "\n",
        "\n",
        "reg = xgb.XGBRegressor(n_estimators=500)\n",
        "rmse = []\n",
        "predictions = []\n",
        "actual = []\n",
        "\n",
        "for train_index, test_index in tss.split(alpha):\n",
        "    X_train, X_test = alpha.iloc[train_index, :], alpha.iloc[test_index,:]\n",
        "    y_train, y_test = y.iloc[train_index], y.iloc[test_index]\n",
        "    reg.fit(X_train, y_train,\n",
        "        eval_set=[(X_train, y_train), (X_test, y_test)],\n",
        "        early_stopping_rounds=50,\n",
        "        verbose=False)\n",
        "    test = reg.predict(X_test)\n",
        "    true_values = y_test.values\n",
        "    rmse.append(mean_squared_error(true_values, test))\n",
        "    predictions.append(test)\n",
        "    actual.append(true_values)\n",
        "\n",
        "print(\"RMSE: {}\".format(np.mean(rmse)))\n",
        "\n",
        "import matplotlib.pyplot as plt\n",
        "\n",
        "plt.plot(actual , 'k--' , label = 'actual')\n",
        "plt.plot(predictions , 'r', label = 'predict')\n",
        "plt.legend()"
      ],
      "execution_count": null,
      "outputs": []
    },
    {
      "cell_type": "code",
      "metadata": {
        "id": "aedQcH7_XTHB"
      },
      "source": [
        "reg = xgb.XGBRegressor(n_estimators=100)\n",
        "rmse = []\n",
        "predictions = []\n",
        "actual = []\n",
        "\n",
        "alpha_full.index.name = 'date'\n",
        "\n",
        "for train_index, test_index in tss.split(alpha_full):\n",
        "    X_train, X_test = alpha_full.iloc[train_index, :], alpha_full.iloc[test_index,:]\n",
        "    y_train, y_test = y.iloc[train_index], y.iloc[test_index]\n",
        "    reg.fit(X_train, y_train ,eval_set=[(X_train, y_train), (X_test, y_test)],  early_stopping_rounds=50, verbose=True)\n",
        "    test = reg.predict(X_test )\n",
        "    true_values = y_test.values\n",
        "    rmse.append(mean_squared_error(true_values, test))\n",
        "    predictions.append(test)\n",
        "    actual.append(true_values)\n",
        "\n",
        "print(\"RMSE: {}\".format(np.mean(rmse)))"
      ],
      "execution_count": null,
      "outputs": []
    },
    {
      "cell_type": "code",
      "metadata": {
        "id": "zPBQU-PEX56k",
        "colab": {
          "base_uri": "https://localhost:8080/",
          "height": 282
        },
        "outputId": "1cd693af-0aeb-4d55-f2b8-cb6d5dffc4af"
      },
      "source": [
        "import matplotlib.pyplot as plt\n",
        "from sklearn.multioutput import MultiOutputRegressor\n",
        "from sklearn.linear_model import ElasticNet\n",
        "from sklearn.metrics import mean_absolute_error, r2_score\n",
        "from sklearn.model_selection import cross_val_score\n",
        "\n",
        "plt.plot(actual , 'k--' , label = 'actual')\n",
        "plt.plot(predictions , 'r', label = 'predict')\n",
        "plt.legend()"
      ],
      "execution_count": null,
      "outputs": [
        {
          "output_type": "execute_result",
          "data": {
            "text/plain": [
              "<matplotlib.legend.Legend at 0x7f922f8b1fd0>"
            ]
          },
          "metadata": {
            "tags": []
          },
          "execution_count": 20
        },
        {
          "output_type": "display_data",
          "data": {
            "image/png": "[encoded data removed]",
            "text/plain": [
              "<Figure size 432x288 with 1 Axes>"
            ]
          },
          "metadata": {
            "tags": [],
            "needs_background": "light"
          }
        }
      ]
    },
    {
      "cell_type": "code",
      "metadata": {
        "id": "gb084hAma27K"
      },
      "source": [
        "class BlockingTimeSeriesSplit():\n",
        "    def __init__(self, n_splits):\n",
        "        self.n_splits = n_splits\n",
        "    \n",
        "    def get_n_splits(self, X, y, groups):\n",
        "        return self.n_splits\n",
        "    \n",
        "    def split(self, X, y=None, groups=None):\n",
        "        n_samples = len(X)\n",
        "        k_fold_size = n_samples // self.n_splits\n",
        "        indices = np.arange(n_samples)\n",
        "\n",
        "        margin = 0\n",
        "        for i in range(self.n_splits):\n",
        "            start = i * k_fold_size\n",
        "            stop = start + k_fold_size\n",
        "            mid = int(0.8 * (stop - start)) + start\n",
        "            yield indices[start: mid], indices[mid + margin: stop]"
      ],
      "execution_count": null,
      "outputs": []
    },
    {
      "cell_type": "code",
      "metadata": {
        "id": "D3Ew2PQzFqz8"
      },
      "source": [
        "y = data['Close']\n",
        "SPLIT_IDX = round(alpha_full.shape[0]*0.9)\n",
        "\n",
        "X_train = alpha_full.iloc[:SPLIT_IDX, :]\n",
        "y_train = y.iloc[:SPLIT_IDX]\n",
        "\n",
        "X_test = alpha_full.iloc[SPLIT_IDX: , :]\n",
        "y_test = y.iloc[SPLIT_IDX:]"
      ],
      "execution_count": null,
      "outputs": []
    },
    {
      "cell_type": "code",
      "metadata": {
        "id": "aCC6qFqoNV-d"
      },
      "source": [
        "def build_model(n_estimators = 300, max_depth = 6, gamma = 0.1 , min_child_weight= 5, reg_alpha = 0.5 , reg_lamb = 0.1  , \n",
        "                learning_rate=0.1, colsample_bytree= 0.8 , subsample =1 ):\n",
        "    estimator = xgb.XGBRegressor(learning_rate=0.1, objective= 'reg:linear', random_state= 42, subsample=subsample ,\n",
        "                    n_estimators =n_estimators , max_depth = max_depth , gamma = gamma, colsample_bytree=colsample_bytree, \n",
        "                    reg_alpha = reg_alpha , min_child_weight= min_child_weight)\n",
        "    return estimator"
      ],
      "execution_count": null,
      "outputs": []
    },
    {
      "cell_type": "code",
      "metadata": {
        "id": "uZnBgmk9fbqm"
      },
      "source": [
        "from sklearn.metrics import make_scorer, r2_score\n",
        "from sklearn.model_selection import GridSearchCV\n",
        "\n",
        "r2 = make_scorer(r2_score)\n",
        "\n",
        "model = build_model()\n",
        "btscv = BlockingTimeSeriesSplit(n_splits=5)\n",
        "scores = cross_val_score(model, X_train, y_train, cv=btscv, scoring=r2)\n",
        "print(\"Loss: {0:.3f} (+/- {1:.3f})\".format(scores.mean(), scores.std()))\n",
        "\n",
        "params = {\n",
        "    'n_estimators' : [100 ,200, 300 , 500 , 600 , 700,800 , 1000],\n",
        "    'max_depth':[4, 5, 7 , 9 , 12 , 15, 17, 25],\n",
        "    'min_child_weight':[1, 2, 3, 4, 5, 6],\n",
        "    'colsample_bytree': [0.6 , 0.7 , 0.8 , 0.9, 1],\n",
        "    'subsample': [ 0.6 , 0.7 , 0.8 , 0.9, 1]}\n",
        "\n",
        "\n",
        "model = build_model()\n",
        "\n",
        "finder = GridSearchCV\n",
        "(\n",
        "    estimator=model,\n",
        "    param_grid=params,\n",
        "    scoring=r2,\n",
        "    iid=False,\n",
        "    refit=False,\n",
        "    cv=btscv,  \n",
        "    verbose=1,\n",
        "    pre_dispatch=8,\n",
        "    error_score=-999,\n",
        ")\n",
        "\n",
        "finder.fit(X_train, y_train)\n",
        "best_params = finder.best_params_"
      ],
      "execution_count": null,
      "outputs": []
    },
    {
      "cell_type": "code",
      "metadata": {
        "id": "u8wEJSfn-Uud"
      },
      "source": [],
      "execution_count": null,
      "outputs": []
    }
  ]
}